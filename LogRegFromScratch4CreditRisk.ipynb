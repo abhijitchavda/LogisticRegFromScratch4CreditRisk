{
 "cells": [
  {
   "cell_type": "code",
   "execution_count": 2,
   "metadata": {},
   "outputs": [],
   "source": [
    "import pandas as pd\n",
    "import numpy as np\n",
    "import sys\n",
    "import math"
   ]
  },
  {
   "cell_type": "markdown",
   "metadata": {},
   "source": [
    "# Split datasets"
   ]
  },
  {
   "cell_type": "markdown",
   "metadata": {},
   "source": [
    "# Scaling"
   ]
  },
  {
   "cell_type": "markdown",
   "metadata": {},
   "source": [
    "# Auto Convergence determination"
   ]
  },
  {
   "cell_type": "code",
   "execution_count": null,
   "metadata": {},
   "outputs": [],
   "source": [
    "# Auto Convergence\n",
    "def has_converged(cost_change):\n",
    "    epsilon = 0.00001\n",
    "    if cost_change < 0:\n",
    "        print(\"ERROR : Cost function increased from the previous iteration. Exiting ... \")\n",
    "        sys.exit(1)\n",
    "    if cost_change < epsilon:\n",
    "        return True\n",
    "    return False"
   ]
  },
  {
   "cell_type": "markdown",
   "metadata": {},
   "source": [
    "# Compute Sigmoid \n",
    "\n",
    "$$g(z) = \\frac{1}{1+e^{-z}}$$"
   ]
  },
  {
   "cell_type": "code",
   "execution_count": null,
   "metadata": {},
   "outputs": [],
   "source": [
    "def sigmoid(z):\n",
    "    return 1/(1+(1/np.exp(z)))"
   ]
  },
  {
   "cell_type": "markdown",
   "metadata": {},
   "source": [
    "# Cost Function with Regularization\n",
    "$$J(\\mathbf{w},b) = \\frac{1}{m}  \\sum_{i=0}^{m-1} \\left[ -y^{(i)} \\log\\left(f_{\\mathbf{w},b}\\left( \\mathbf{x}^{(i)} \\right) \\right) - \\left( 1 - y^{(i)}\\right) \\log \\left( 1 - f_{\\mathbf{w},b}\\left( \\mathbf{x}^{(i)} \\right) \\right) \\right] + \\frac{\\lambda}{2m}  \\sum_{j=0}^{n-1} w_j^2$$"
   ]
  },
  {
   "cell_type": "code",
   "execution_count": null,
   "metadata": {},
   "outputs": [],
   "source": [
    "def cost_function_reg(w, b, X, y, LAMBDA):\n",
    "    m,n = X.shape\n",
    "    cost = 0\n",
    "    for i in range(m):\n",
    "        f_wb = sigmoid((np.dot(w,X[i]) + b))\n",
    "        loss = -y[i] * np.log(f_wb) - (1 - y[i]) * np.log(1 - f_wb)\n",
    "        cost += loss\n",
    "    cost = (1/m) * cost\n",
    "\n",
    "    reg = 0\n",
    "    for i in range(n):\n",
    "        reg += w[i]**2\n",
    "\n",
    "    reg = (LAMBDA/(2*m)) * reg\n",
    "    return cost + reg"
   ]
  },
  {
   "cell_type": "markdown",
   "metadata": {},
   "source": [
    "# Compute Gradient with Regularization\n",
    "$$\n",
    "\\frac{\\partial J(\\mathbf{w},b)}{\\partial b}  = \\frac{1}{m} \\sum\\limits_{i = 0}^{m-1} (f_{\\mathbf{w},b}(\\mathbf{x}^{(i)}) - \\mathbf{y}^{(i)}) \\tag{1}\n",
    "$$\n",
    "$$\n",
    "\\frac{\\partial J(\\mathbf{w},b)}{\\partial w_j}  = \\frac{1}{m} \\sum\\limits_{i = 0}^{m-1} (f_{\\mathbf{w},b}(\\mathbf{x}^{(i)}) - \\mathbf{y}^{(i)})x_{j}^{(i)} + \\frac{\\lambda}{m}  \\sum_{j=0}^{n-1} w_j\\tag{2}\n",
    "$$"
   ]
  },
  {
   "cell_type": "code",
   "execution_count": null,
   "metadata": {},
   "outputs": [],
   "source": [
    "def compute_gradient_reg(w, b, X, y, LAMBDA):\n",
    "    m,n = X.shape\n",
    "    dj_dw = np.zeros(n)\n",
    "    for i in range(m):\n",
    "        f_wb = sigmoid(np.dot(w,X[i]) + b)\n",
    "        dj_db += (f_wb - y[i])\n",
    "        err = f_wb - y[i]\n",
    "        for j in range(n):\n",
    "            dj_dw[j] += err * X[i,j]\n",
    "    \n",
    "    dj_db = dj_db/m\n",
    "    dj_dw = dj_dw/m\n",
    "\n",
    "    for i in range(n):\n",
    "        dj_dw[i] += ( LAMBDA / m ) * w[i]\n",
    "\n",
    "    return dj_db, dj_dw"
   ]
  },
  {
   "cell_type": "markdown",
   "metadata": {},
   "source": [
    "# Gradient Descent"
   ]
  },
  {
   "cell_type": "code",
   "execution_count": null,
   "metadata": {},
   "outputs": [],
   "source": [
    "def gradient_descent(w, b, X, y, LAMBDA, ALPHA):\n",
    "    cost_history = []\n",
    "    cost_history.append(compute_gradient_reg(w, b, X, y, LAMBDA))\n",
    "    last_cost = cost_history[-1] + 1\n",
    "    i = 0\n",
    "    while not has_converged(last_cost - cost_history[-1]) :\n",
    "        dj_db, dj_dw = compute_gradient_reg(w, b, X, y, LAMBDA)\n",
    "        w = w - ALPHA * dj_dw\n",
    "        b = b - ALPHA * dj_db\n",
    "        last_cost = cost_history[-1]\n",
    "        cost_history.append(cost_function_reg(w, b, X, y, LAMBDA))\n",
    "        i += 1\n",
    "    print (f\"TOTAL ITERATIONS : {i}\")\n",
    "    return cost_history, w, b\n",
    "\n"
   ]
  },
  {
   "cell_type": "markdown",
   "metadata": {},
   "source": [
    "# Train"
   ]
  },
  {
   "cell_type": "code",
   "execution_count": null,
   "metadata": {},
   "outputs": [],
   "source": [
    "def train(train_X, train_y, LAMBDA, ALPHA):\n",
    "    w = np.zeros(train_X.shape(1))\n",
    "    b = 0\n",
    "    return gradient_descent(w, b, train_X, train_y, LAMBDA, ALPHA)\n"
   ]
  },
  {
   "cell_type": "markdown",
   "metadata": {},
   "source": [
    "# Prediction"
   ]
  },
  {
   "cell_type": "code",
   "execution_count": null,
   "metadata": {},
   "outputs": [],
   "source": [
    "def predict(test_X, w, b):\n",
    "    predictions = np.zeros(test_X.shape(0))\n",
    "    for i in range(test_X.shape(0)):\n",
    "        predictions[i] = 1 if sigmoid(np.dot(w, test_X[i]) + b ) >= 0.7 else 0\n",
    "    return predictions"
   ]
  },
  {
   "cell_type": "markdown",
   "metadata": {},
   "source": [
    "# Precision and Recall"
   ]
  },
  {
   "cell_type": "markdown",
   "metadata": {},
   "source": []
  }
 ],
 "metadata": {
  "kernelspec": {
   "display_name": "Python 3",
   "language": "python",
   "name": "python3"
  },
  "language_info": {
   "codemirror_mode": {
    "name": "ipython",
    "version": 3
   },
   "file_extension": ".py",
   "mimetype": "text/x-python",
   "name": "python",
   "nbconvert_exporter": "python",
   "pygments_lexer": "ipython3",
   "version": "3.11.3"
  }
 },
 "nbformat": 4,
 "nbformat_minor": 2
}
