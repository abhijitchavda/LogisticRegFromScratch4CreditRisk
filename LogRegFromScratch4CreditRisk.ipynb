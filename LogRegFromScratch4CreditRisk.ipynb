{
 "cells": [
  {
   "cell_type": "code",
   "execution_count": 289,
   "metadata": {},
   "outputs": [],
   "source": [
    "import pandas as pd\n",
    "import numpy as np\n",
    "import sys\n",
    "import warnings\n",
    "import matplotlib.pyplot as plt"
   ]
  },
  {
   "cell_type": "markdown",
   "metadata": {},
   "source": [
    "# Plots"
   ]
  },
  {
   "cell_type": "code",
   "execution_count": 290,
   "metadata": {},
   "outputs": [],
   "source": [
    "def loss_curve_plot(y_line):\n",
    "    x_line = list(range(len(y_line)))\n",
    "    plt.plot(x_line, y_line, color = \"red\")\n",
    "    plt.xlabel('iterations')\n",
    "    plt.ylabel('cost function')\n",
    "    plt.title(\"loss curve\")\n",
    "    plt.show()"
   ]
  },
  {
   "cell_type": "markdown",
   "metadata": {},
   "source": [
    "# Data encoding"
   ]
  },
  {
   "cell_type": "code",
   "execution_count": 291,
   "metadata": {},
   "outputs": [],
   "source": [
    "def data_encoding(df):\n",
    "    # Convert to one-hot encoding\n",
    "    df = df.dropna()\n",
    "    df = pd.get_dummies(df, columns=['person_home_ownership', 'loan_intent'], drop_first=True)\n",
    "\n",
    "    # Convert boolean to int\n",
    "    for column in df.columns.to_list():\n",
    "        if \"person_home_ownership\" in column or \"loan_intent\" in column:\n",
    "            df[column] = df[column].astype(int)\n",
    "\n",
    "    # Convert categories to int\n",
    "    with warnings.catch_warnings(action=\"ignore\"):\n",
    "        df['cb_person_default_on_file'] = df['cb_person_default_on_file'].replace({'Y': 1, 'N': 0})\n",
    "        df['loan_grade'] = df['loan_grade'].replace({'A': 1, 'B': 2, 'C': 3, 'D': 4, 'E': 5, 'F': 6, 'G': 7})\n",
    "\n",
    "    return df"
   ]
  },
  {
   "cell_type": "markdown",
   "metadata": {},
   "source": [
    "# Split datasets"
   ]
  },
  {
   "cell_type": "code",
   "execution_count": 292,
   "metadata": {},
   "outputs": [],
   "source": [
    "def split_len(total):\n",
    "    return (int) ((total * 80)/100)\n",
    "\n",
    "def split_dataset(df):\n",
    "    train_df = df.iloc[:split_len(len(df))]\n",
    "    test_df = df.iloc[split_len(len(df)):]\n",
    "    return train_df.reset_index(drop=True), test_df.reset_index(drop=True)"
   ]
  },
  {
   "cell_type": "markdown",
   "metadata": {},
   "source": [
    "# Scaling"
   ]
  },
  {
   "cell_type": "code",
   "execution_count": 293,
   "metadata": {},
   "outputs": [],
   "source": [
    "def z_score_normalization(feature):\n",
    "    with warnings.catch_warnings(action=\"ignore\"):\n",
    "        feature_array = np.array(feature)\n",
    "        mean = np.mean(feature_array)\n",
    "        standard_deviation = np.std(feature_array)\n",
    "        for i in range(len(feature)):\n",
    "            feature[i] = (feature[i] - mean) / standard_deviation\n",
    "        return feature"
   ]
  },
  {
   "cell_type": "markdown",
   "metadata": {},
   "source": [
    "# Auto Convergence determination"
   ]
  },
  {
   "cell_type": "code",
   "execution_count": 294,
   "metadata": {},
   "outputs": [],
   "source": [
    "# Auto Convergence\n",
    "def has_converged(cost_change):\n",
    "    epsilon = 0.00001\n",
    "    if cost_change < 0:\n",
    "        print(\"ERROR : Cost function increased from the previous iteration. Exiting ... \")\n",
    "        sys.exit(1)\n",
    "    if cost_change < epsilon:\n",
    "        return True\n",
    "    return False"
   ]
  },
  {
   "cell_type": "markdown",
   "metadata": {},
   "source": [
    "# Compute Sigmoid \n",
    "\n",
    "$$g(z) = \\frac{1}{1+e^{-z}}$$"
   ]
  },
  {
   "cell_type": "code",
   "execution_count": 295,
   "metadata": {},
   "outputs": [],
   "source": [
    "def sigmoid(z):\n",
    "    return 1/(1+(1/np.exp(z)))"
   ]
  },
  {
   "cell_type": "markdown",
   "metadata": {},
   "source": [
    "# Cost Function with Regularization\n",
    "$$J(\\mathbf{w},b) = \\frac{1}{m}  \\sum_{i=0}^{m-1} \\left[ -y^{(i)} \\log\\left(f_{\\mathbf{w},b}\\left( \\mathbf{x}^{(i)} \\right) \\right) - \\left( 1 - y^{(i)}\\right) \\log \\left( 1 - f_{\\mathbf{w},b}\\left( \\mathbf{x}^{(i)} \\right) \\right) \\right] + \\frac{\\lambda}{2m}  \\sum_{j=0}^{n-1} w_j^2$$"
   ]
  },
  {
   "cell_type": "code",
   "execution_count": 296,
   "metadata": {},
   "outputs": [],
   "source": [
    "def cost_function_reg(w, b, X, y, LAMBDA):\n",
    "    m,n = X.shape\n",
    "    cost = 0\n",
    "    for i in range(m):\n",
    "        f_wb = sigmoid((np.dot(w,X[i]) + b))\n",
    "        loss = -y[i] * np.log(f_wb) - (1 - y[i]) * np.log(1 - f_wb)\n",
    "        cost += loss\n",
    "    cost = (1/m) * cost\n",
    "\n",
    "    reg = 0\n",
    "    for i in range(n):\n",
    "        reg += w[i]**2\n",
    "\n",
    "    reg = (LAMBDA/(2*m)) * reg\n",
    "    return cost + reg"
   ]
  },
  {
   "cell_type": "markdown",
   "metadata": {},
   "source": [
    "# Compute Gradient with Regularization\n",
    "$$\n",
    "\\frac{\\partial J(\\mathbf{w},b)}{\\partial b}  = \\frac{1}{m} \\sum\\limits_{i = 0}^{m-1} (f_{\\mathbf{w},b}(\\mathbf{x}^{(i)}) - \\mathbf{y}^{(i)}) \\tag{1}\n",
    "$$\n",
    "$$\n",
    "\\frac{\\partial J(\\mathbf{w},b)}{\\partial w_j}  = \\frac{1}{m} \\sum\\limits_{i = 0}^{m-1} (f_{\\mathbf{w},b}(\\mathbf{x}^{(i)}) - \\mathbf{y}^{(i)})x_{j}^{(i)} + \\frac{\\lambda}{m}  \\sum_{j=0}^{n-1} w_j\\tag{2}\n",
    "$$"
   ]
  },
  {
   "cell_type": "code",
   "execution_count": 297,
   "metadata": {},
   "outputs": [],
   "source": [
    "def compute_gradient_reg(w, b, X, y, LAMBDA):\n",
    "    m,n = X.shape\n",
    "    dj_dw = np.zeros(n)\n",
    "    dj_db = 0\n",
    "    for i in range(m):\n",
    "        f_wb = sigmoid(np.dot(w,X[i]) + b)\n",
    "        dj_db += (f_wb - y[i])\n",
    "        err = f_wb - y[i]\n",
    "        for j in range(n):\n",
    "            dj_dw[j] += err * X[i,j]\n",
    "    \n",
    "    dj_db = dj_db/m\n",
    "    dj_dw = dj_dw/m\n",
    "\n",
    "    for i in range(n):\n",
    "        dj_dw[i] += ( LAMBDA / m ) * w[i]\n",
    "\n",
    "    return dj_db, dj_dw"
   ]
  },
  {
   "cell_type": "markdown",
   "metadata": {},
   "source": [
    "# Gradient Descent"
   ]
  },
  {
   "cell_type": "code",
   "execution_count": 298,
   "metadata": {},
   "outputs": [],
   "source": [
    "def gradient_descent(w, b, X, y, LAMBDA, ALPHA):\n",
    "    cost_history = []\n",
    "    cost_history.append(cost_function_reg(w, b, X, y, LAMBDA))\n",
    "    last_cost = cost_history[-1] + 1\n",
    "    i = 0\n",
    "    while not has_converged(last_cost - cost_history[-1]) :\n",
    "        dj_db, dj_dw = compute_gradient_reg(w, b, X, y, LAMBDA)\n",
    "        w = w - ALPHA * dj_dw\n",
    "        b = b - ALPHA * dj_db\n",
    "        last_cost = cost_history[-1]\n",
    "        cost_history.append(cost_function_reg(w, b, X, y, LAMBDA))\n",
    "        i += 1\n",
    "    print (f\"TOTAL ITERATIONS : {i}\")\n",
    "    return cost_history, w, b\n",
    "\n"
   ]
  },
  {
   "cell_type": "markdown",
   "metadata": {},
   "source": [
    "# Train"
   ]
  },
  {
   "cell_type": "code",
   "execution_count": 299,
   "metadata": {},
   "outputs": [],
   "source": [
    "def train(train_X, train_y, LAMBDA, ALPHA):\n",
    "    w = np.zeros(train_X.shape[1])\n",
    "    b = 0\n",
    "    return gradient_descent(w, b, train_X, train_y, LAMBDA, ALPHA)\n"
   ]
  },
  {
   "cell_type": "markdown",
   "metadata": {},
   "source": [
    "# Prediction"
   ]
  },
  {
   "cell_type": "code",
   "execution_count": 300,
   "metadata": {},
   "outputs": [],
   "source": [
    "def predict(test_X, w, b):\n",
    "    predictions = np.zeros(test_X.shape[0])\n",
    "    for i in range(test_X.shape[0]):\n",
    "        predictions[i] = 1 if sigmoid(np.dot(w, test_X[i]) + b ) >= 0.4 else 0\n",
    "    return predictions"
   ]
  },
  {
   "cell_type": "markdown",
   "metadata": {},
   "source": [
    "# Precision and Recall"
   ]
  },
  {
   "cell_type": "code",
   "execution_count": 301,
   "metadata": {},
   "outputs": [],
   "source": [
    "def accuracy(prediction, truth):\n",
    "    # Initialize counters\n",
    "    TP = 0  # True Positives\n",
    "    FP = 0  # False Positives\n",
    "    FN = 0  # False Negatives\n",
    "\n",
    "    for true, pred in zip(truth, prediction):\n",
    "        if pred == 1 and true == 1:\n",
    "            TP += 1\n",
    "        elif pred == 1 and true == 0:\n",
    "            FP += 1\n",
    "        elif pred == 0 and true == 1:\n",
    "            FN += 1\n",
    "\n",
    "    # Calculate precision and recall\n",
    "    precision = TP / (TP + FP) if (TP + FP) > 0 else 0\n",
    "    recall = TP / (TP + FN) if (TP + FN) > 0 else 0\n",
    "    return precision, recall"
   ]
  },
  {
   "cell_type": "markdown",
   "metadata": {},
   "source": [
    "# Driver Method"
   ]
  },
  {
   "cell_type": "code",
   "execution_count": 302,
   "metadata": {},
   "outputs": [
    {
     "name": "stdout",
     "output_type": "stream",
     "text": [
      "TOTAL ITERATIONS : 848\n"
     ]
    },
    {
     "data": {
      "image/png": "[encoded data removed]",
      "text/plain": [
       "<Figure size 640x480 with 1 Axes>"
      ]
     },
     "metadata": {},
     "output_type": "display_data"
    },
    {
     "name": "stdout",
     "output_type": "stream",
     "text": [
      "Precison : 0.6313446126447017\n",
      "Recall : 0.6296625222024866\n"
     ]
    }
   ],
   "source": [
    "def main():\n",
    "    df = pd.read_csv(\"/Users/abhijit/Downloads/credit_risk_dataset.csv\")\n",
    "    # print(df.head())\n",
    "    df = data_encoding(df)\n",
    "    train_df, test_df = split_dataset(df)\n",
    "    # print(test_df.head())\n",
    "    for column in [ \"person_age\", \"person_income\", \"person_emp_length\",\t\"loan_grade\", \"loan_amnt\", \"loan_int_rate\", \"loan_percent_income\", \"cb_person_cred_hist_length\"]:\n",
    "        train_df[column] = z_score_normalization(train_df[column])\n",
    "        test_df[column] = z_score_normalization(test_df[column])\n",
    "    train_X = train_df.loc[:, train_df.columns != 'loan_status']\n",
    "    train_y = train_df['loan_status'].to_numpy()\n",
    "    test_X = test_df.loc[:, test_df.columns != 'loan_status']\n",
    "    test_y = test_df['loan_status'].to_numpy()\n",
    "    LAMBDA = 1\n",
    "    ALPHA = 0.1\n",
    "    cost_history, w, b = train(train_X.to_numpy(), train_y, LAMBDA, ALPHA)\n",
    "    loss_curve_plot(cost_history)\n",
    "    prediction = predict(test_X.to_numpy(), w, b)\n",
    "    precision, recall = accuracy(prediction, test_y)\n",
    "    print(f\"Precison : {precision}\")\n",
    "    print(f\"Recall : {recall}\")\n",
    "    \n",
    "main()\n",
    "    "
   ]
  }
 ],
 "metadata": {
  "kernelspec": {
   "display_name": "Python 3",
   "language": "python",
   "name": "python3"
  },
  "language_info": {
   "codemirror_mode": {
    "name": "ipython",
    "version": 3
   },
   "file_extension": ".py",
   "mimetype": "text/x-python",
   "name": "python",
   "nbconvert_exporter": "python",
   "pygments_lexer": "ipython3",
   "version": "3.11.3"
  }
 },
 "nbformat": 4,
 "nbformat_minor": 2
}
